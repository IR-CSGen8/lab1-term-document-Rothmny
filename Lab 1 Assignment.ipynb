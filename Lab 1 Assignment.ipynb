{
 "cells": [
  {
   "cell_type": "code",
   "execution_count": 3,
   "id": "34e21f62",
   "metadata": {},
   "outputs": [],
   "source": [
    "# Define the documents as a dictionary where keys are document titles and values are document content\n",
    "documents = {\n",
    "    \"Article: Pandas Basics\": \"This article covers the basics of using Pandas in Python.\",\n",
    "    \"Tutorial: Data Visualization\": \"Learn about data visualization techniques with Python libraries.\",\n",
    "    \"Case Study: Sales Analysis\": \"Analyze sales data using Python for a real-world case study.\"\n",
    "}"
   ]
  },
  {
   "cell_type": "code",
   "execution_count": 4,
   "id": "ee8fdf0c",
   "metadata": {},
   "outputs": [
    {
     "name": "stdout",
     "output_type": "stream",
     "text": [
      "['Article: Pandas Basics', 'Tutorial: Data Visualization', 'Case Study: Sales Analysis']\n"
     ]
    }
   ],
   "source": [
    "# get the keys of the documents and store it in the list\n",
    "key_documents = [key for key in documents]\n",
    "# or we can use this\n",
    "# key_documents = list(documents.keys())\n",
    "\n",
    "# display the list of the key documents\n",
    "print(key_documents)"
   ]
  },
  {
   "cell_type": "code",
   "execution_count": 5,
   "id": "e5398841",
   "metadata": {},
   "outputs": [
    {
     "name": "stdout",
     "output_type": "stream",
     "text": [
      "['Article', 'Tutorial', 'Case Study']\n"
     ]
    }
   ],
   "source": [
    "# Extract the category of the key documents and store it \n",
    "categories = [title.split(': ')[0] for title in documents]\n",
    "\n",
    "# we can use this instead to better understanding\n",
    "# categories = []\n",
    "# for key_doc in documents:\n",
    "#     category = key_doc.split(': ')[0]\n",
    "#     categories.append(category)\n",
    "\n",
    "# Print the list of categories\n",
    "print(categories)"
   ]
  },
  {
   "cell_type": "code",
   "execution_count": 6,
   "id": "a5353707",
   "metadata": {},
   "outputs": [
    {
     "name": "stdout",
     "output_type": "stream",
     "text": [
      "['This article covers the basics of using Pandas in Python.', 'Learn about data visualization techniques with Python libraries.', 'Analyze sales data using Python for a real-world case study.']\n"
     ]
    }
   ],
   "source": [
    "\n",
    "# Extract the content values and put them in a list\n",
    "document_content_list = list(documents.values())\n",
    "\n",
    "# Display the list of document content\n",
    "print(document_content_list)"
   ]
  },
  {
   "cell_type": "code",
   "execution_count": 7,
   "id": "bedcd86f",
   "metadata": {},
   "outputs": [
    {
     "data": {
      "text/plain": [
       "{'Analyze',\n",
       " 'Learn',\n",
       " 'Pandas',\n",
       " 'Python',\n",
       " 'Python.',\n",
       " 'This',\n",
       " 'a',\n",
       " 'about',\n",
       " 'article',\n",
       " 'basics',\n",
       " 'case',\n",
       " 'covers',\n",
       " 'data',\n",
       " 'for',\n",
       " 'in',\n",
       " 'libraries.',\n",
       " 'of',\n",
       " 'real-world',\n",
       " 'sales',\n",
       " 'study.',\n",
       " 'techniques',\n",
       " 'the',\n",
       " 'using',\n",
       " 'visualization',\n",
       " 'with'}"
      ]
     },
     "execution_count": 7,
     "metadata": {},
     "output_type": "execute_result"
    }
   ],
   "source": [
    "# Gather the set of all unique terms from the list content of document and diplay the result\n",
    "# unique_terms = {term for doc in document_content_list for term in doc.split()}\n",
    "# unique_terms\n",
    "\n",
    "# this below code is easily for normal loop\n",
    "# Initialize an empty set to store unique terms\n",
    "unique_terms = set()\n",
    "\n",
    "# Iterate through each document in document_content_list\n",
    "for doc in document_content_list:\n",
    "    # Split each document into terms and add them to the unique_terms set\n",
    "    terms = doc.split()\n",
    "    for term in terms:\n",
    "        unique_terms.add(term)\n",
    "unique_terms"
   ]
  },
  {
   "cell_type": "code",
   "execution_count": 32,
   "id": "41334ffd",
   "metadata": {},
   "outputs": [
    {
     "data": {
      "text/plain": [
       "{'This': [1, 0, 0],\n",
       " 'libraries.': [0, 1, 0],\n",
       " 'visualization': [0, 1, 0],\n",
       " 'covers': [1, 0, 0],\n",
       " 'Python': [1, 1, 1],\n",
       " 'in': [1, 0, 1],\n",
       " 'the': [1, 0, 0],\n",
       " 'data': [0, 1, 1],\n",
       " 'with': [0, 1, 0],\n",
       " 'sales': [0, 0, 1],\n",
       " 'Learn': [0, 1, 0],\n",
       " 'study.': [0, 0, 1],\n",
       " 'about': [0, 1, 0],\n",
       " 'techniques': [0, 1, 0],\n",
       " 'real-world': [0, 0, 1],\n",
       " 'a': [1, 1, 1],\n",
       " 'article': [1, 0, 0],\n",
       " 'using': [1, 0, 1],\n",
       " 'of': [1, 0, 0],\n",
       " 'Pandas': [1, 0, 0],\n",
       " 'Python.': [1, 0, 0],\n",
       " 'Analyze': [0, 0, 1],\n",
       " 'basics': [1, 0, 0],\n",
       " 'case': [0, 0, 1],\n",
       " 'for': [0, 0, 1]}"
      ]
     },
     "execution_count": 32,
     "metadata": {},
     "output_type": "execute_result"
    }
   ],
   "source": [
    "# create a matrix for the document by using the unique term\n",
    "\n",
    "doc_term_matrix = {}\n",
    "\n",
    "\n",
    "# your code here\n",
    "for term in unique_terms:\n",
    "    doc_term_matrix[term] = []\n",
    "    \n",
    "    for doc in document_content_list:\n",
    "        if term in doc:\n",
    "            doc_term_matrix[term].append(1)\n",
    "        else: doc_term_matrix[term].append(0)\n",
    "            \n",
    "# display the result of the matrix\n",
    "doc_term_matrix"
   ]
  },
  {
   "cell_type": "code",
   "execution_count": 10,
   "id": "a8a41b23",
   "metadata": {},
   "outputs": [
    {
     "name": "stdout",
     "output_type": "stream",
     "text": [
      "[1 0 0]\n",
      "[1 1 1]\n",
      "-------\n",
      "[1 0 0]\n"
     ]
    },
    {
     "data": {
      "text/plain": [
       "['This article covers the basics of using Pandas in Python.']"
      ]
     },
     "execution_count": 10,
     "metadata": {},
     "output_type": "execute_result"
    }
   ],
   "source": [
    "# import the numpy library if it doesn't work you need to install numpy\n",
    "import numpy as np\n",
    "\n",
    "docs_array = np.array(document_content_list, dtype='object')\n",
    "\n",
    "v1 = np.array(doc_term_matrix['the'])    \n",
    "v2 = np.array(doc_term_matrix['Python'])\n",
    "\n",
    "print(v1)\n",
    "print(v2)\n",
    "print('-------')\n",
    "\n",
    "# find the documents that have both terms from v1 and v2\n",
    "v3 = v1 & v2\n",
    "\n",
    "print(v3)\n",
    "\n",
    "# display the content document from the result\n",
    "[doc for doc in v3 * docs_array if doc]"
   ]
  },
  {
   "cell_type": "code",
   "execution_count": 13,
   "id": "11484192",
   "metadata": {},
   "outputs": [
    {
     "name": "stdout",
     "output_type": "stream",
     "text": [
      "[1 0 0]\n",
      "[1 1 1]\n",
      "-------\n",
      "[1 1 1]\n"
     ]
    },
    {
     "data": {
      "text/plain": [
       "['This article covers the basics of using Pandas in Python.',\n",
       " 'Learn about data visualization techniques with Python libraries.',\n",
       " 'Analyze sales data using Python for a real-world case study.']"
      ]
     },
     "execution_count": 13,
     "metadata": {},
     "output_type": "execute_result"
    }
   ],
   "source": [
    "# find the document for those have at least one word\n",
    "import numpy as np\n",
    "\n",
    "docs_array = np.array(document_content_list, dtype='object')\n",
    "\n",
    "v1 = np.array(doc_term_matrix['the'])    \n",
    "v2 = np.array(doc_term_matrix['Python'])\n",
    "\n",
    "print(v1)\n",
    "print(v2)\n",
    "print('-------')\n",
    "\n",
    "# find the documents that have both terms from v1 and v2\n",
    "v3 = v1 | v2\n",
    "\n",
    "print(v3)\n",
    "\n",
    "# display the content document from the result\n",
    "    [doc for doc in v3 * docs_array if doc]"
   ]
  },
  {
   "cell_type": "code",
   "execution_count": 40,
   "id": "55b564dc",
   "metadata": {},
   "outputs": [
    {
     "name": "stdout",
     "output_type": "stream",
     "text": [
      "1\n",
      "4\n",
      "7\n"
     ]
    }
   ],
   "source": [
    "# terms = [1,2,3,4,5,6,7,8,9]\n",
    "# for term in terms:\n",
    "#     print(term)\n",
    "n = 10\n",
    "\n",
    "for i in range(1, n, 3):\n",
    "    print(i)"
   ]
  },
  {
   "cell_type": "code",
   "execution_count": 77,
   "id": "374bed1b",
   "metadata": {},
   "outputs": [
    {
     "data": {
      "text/html": [
       "<style type=\"text/css\">\n",
       "#T_60503_row0_col0, #T_60503_row0_col1, #T_60503_row1_col0, #T_60503_row1_col1, #T_60503_row2_col0, #T_60503_row2_col1 {\n",
       "  text-align: left;\n",
       "}\n",
       "</style>\n",
       "<table id=\"T_60503\">\n",
       "  <thead>\n",
       "    <tr>\n",
       "      <th class=\"blank level0\" >&nbsp;</th>\n",
       "      <th id=\"T_60503_level0_col0\" class=\"col_heading level0 col0\" >document</th>\n",
       "      <th id=\"T_60503_level0_col1\" class=\"col_heading level0 col1\" >content</th>\n",
       "    </tr>\n",
       "  </thead>\n",
       "  <tbody>\n",
       "    <tr>\n",
       "      <th id=\"T_60503_level0_row0\" class=\"row_heading level0 row0\" >0</th>\n",
       "      <td id=\"T_60503_row0_col0\" class=\"data row0 col0\" >Document 1</td>\n",
       "      <td id=\"T_60503_row0_col1\" class=\"data row0 col1\" >This is the first document. It contains some words.</td>\n",
       "    </tr>\n",
       "    <tr>\n",
       "      <th id=\"T_60503_level0_row1\" class=\"row_heading level0 row1\" >1</th>\n",
       "      <td id=\"T_60503_row1_col0\" class=\"data row1 col0\" >Document 2</td>\n",
       "      <td id=\"T_60503_row1_col1\" class=\"data row1 col1\" >The second document is a bit longer and has different words.</td>\n",
       "    </tr>\n",
       "    <tr>\n",
       "      <th id=\"T_60503_level0_row2\" class=\"row_heading level0 row2\" >2</th>\n",
       "      <td id=\"T_60503_row2_col0\" class=\"data row2 col0\" >Document 3</td>\n",
       "      <td id=\"T_60503_row2_col1\" class=\"data row2 col1\" >The third document is short. Short documents can be concise.</td>\n",
       "    </tr>\n",
       "  </tbody>\n",
       "</table>\n"
      ],
      "text/plain": [
       "<pandas.io.formats.style.Styler at 0x2189176e510>"
      ]
     },
     "metadata": {},
     "output_type": "display_data"
    },
    {
     "name": "stdout",
     "output_type": "stream",
     "text": [
      "    document                             content                           \n",
      "0  Document 1           This is the first document. It contains some words.\n",
      "1  Document 2  The second document is a bit longer and has different words.\n",
      "2  Document 3  The third document is short. Short documents can be concise.\n"
     ]
    }
   ],
   "source": [
    "import pandas as pd\n",
    "\n",
    "df = pd.read_csv('F:\\\\CADT\\\\Data Science\\\\TERM6\\\\Information Retrieval\\\\tdoc.csv', header = None, names = [\"document\", \"content\"])\n",
    "df.columns\n",
    "# left_aligned_df = df.style.set_properties(**{'text-align': 'left'})\n",
    "# display(left_aligned_df)\n",
    "pd.options.display.colheader_justify = 'center'\n",
    "print(df.to_string())"
   ]
  },
  {
   "cell_type": "code",
   "execution_count": 85,
   "id": "af80f490",
   "metadata": {},
   "outputs": [
    {
     "name": "stdout",
     "output_type": "stream",
     "text": [
      "+------------+--------------------------------------------------------------+\n",
      "|  document  |                           content                            |\n",
      "+============+==============================================================+\n",
      "| Document 1 |     This is the first document. It contains some words.      |\n",
      "+------------+--------------------------------------------------------------+\n",
      "| Document 2 | The second document is a bit longer and has different words. |\n",
      "+------------+--------------------------------------------------------------+\n",
      "| Document 3 | The third document is short. Short documents can be concise. |\n",
      "+------------+--------------------------------------------------------------+\n"
     ]
    }
   ],
   "source": [
    "import pandas as pd\n",
    "from tabulate import tabulate\n",
    "\n",
    "# Read the CSV file into a DataFrame\n",
    "df = pd.read_csv('F:\\\\CADT\\\\Data Science\\\\TERM6\\\\Information Retrieval\\\\tdoc.csv', header=None, names=[\"document\", \"content\"])\n",
    "\n",
    "# Define a function to format the DataFrame\n",
    "def format_dataframe(df):\n",
    "    # Set header alignment to center\n",
    "    pd.options.display.colheader_justify = 'center'\n",
    "\n",
    "    # Convert the DataFrame to a tabulated format with borders and text color\n",
    "    formatted_table = tabulate(df, headers='keys', tablefmt='grid', showindex=False, numalign='center', stralign='center')\n",
    "\n",
    "    return formatted_table\n",
    "\n",
    "# Format and print the DataFrame\n",
    "formatted_df = format_dataframe(df)\n",
    "print(formatted_df)\n"
   ]
  },
  {
   "cell_type": "code",
   "execution_count": 20,
   "id": "4c60827d",
   "metadata": {},
   "outputs": [],
   "source": [
    "# Homework save the unique_term to csv file \n",
    "import pandas as pd\n",
    "# df = pd.DataFrame(unique_terms)\n",
    "df = pd.DataFrame({'unique_term': list(unique_terms)})\n",
    "df.to_csv('F:\\\\CADT\\\\Data Science\\\\TERM6\\\\Information Retrieval\\\\tdoc2.csv', index = False)"
   ]
  },
  {
   "cell_type": "code",
   "execution_count": 22,
   "id": "56ed79de",
   "metadata": {},
   "outputs": [
    {
     "data": {
      "text/html": [
       "<div>\n",
       "<style scoped>\n",
       "    .dataframe tbody tr th:only-of-type {\n",
       "        vertical-align: middle;\n",
       "    }\n",
       "\n",
       "    .dataframe tbody tr th {\n",
       "        vertical-align: top;\n",
       "    }\n",
       "\n",
       "    .dataframe thead th {\n",
       "        text-align: right;\n",
       "    }\n",
       "</style>\n",
       "<table border=\"1\" class=\"dataframe\">\n",
       "  <thead>\n",
       "    <tr style=\"text-align: right;\">\n",
       "      <th></th>\n",
       "      <th>unique_term</th>\n",
       "    </tr>\n",
       "  </thead>\n",
       "  <tbody>\n",
       "    <tr>\n",
       "      <th>0</th>\n",
       "      <td>covers</td>\n",
       "    </tr>\n",
       "    <tr>\n",
       "      <th>1</th>\n",
       "      <td>libraries.</td>\n",
       "    </tr>\n",
       "    <tr>\n",
       "      <th>2</th>\n",
       "      <td>the</td>\n",
       "    </tr>\n",
       "    <tr>\n",
       "      <th>3</th>\n",
       "      <td>study.</td>\n",
       "    </tr>\n",
       "    <tr>\n",
       "      <th>4</th>\n",
       "      <td>data</td>\n",
       "    </tr>\n",
       "    <tr>\n",
       "      <th>5</th>\n",
       "      <td>article</td>\n",
       "    </tr>\n",
       "    <tr>\n",
       "      <th>6</th>\n",
       "      <td>using</td>\n",
       "    </tr>\n",
       "    <tr>\n",
       "      <th>7</th>\n",
       "      <td>sales</td>\n",
       "    </tr>\n",
       "    <tr>\n",
       "      <th>8</th>\n",
       "      <td>basics</td>\n",
       "    </tr>\n",
       "    <tr>\n",
       "      <th>9</th>\n",
       "      <td>case</td>\n",
       "    </tr>\n",
       "    <tr>\n",
       "      <th>10</th>\n",
       "      <td>Learn</td>\n",
       "    </tr>\n",
       "    <tr>\n",
       "      <th>11</th>\n",
       "      <td>This</td>\n",
       "    </tr>\n",
       "    <tr>\n",
       "      <th>12</th>\n",
       "      <td>Python</td>\n",
       "    </tr>\n",
       "    <tr>\n",
       "      <th>13</th>\n",
       "      <td>visualization</td>\n",
       "    </tr>\n",
       "    <tr>\n",
       "      <th>14</th>\n",
       "      <td>of</td>\n",
       "    </tr>\n",
       "    <tr>\n",
       "      <th>15</th>\n",
       "      <td>a</td>\n",
       "    </tr>\n",
       "    <tr>\n",
       "      <th>16</th>\n",
       "      <td>in</td>\n",
       "    </tr>\n",
       "    <tr>\n",
       "      <th>17</th>\n",
       "      <td>real-world</td>\n",
       "    </tr>\n",
       "    <tr>\n",
       "      <th>18</th>\n",
       "      <td>with</td>\n",
       "    </tr>\n",
       "    <tr>\n",
       "      <th>19</th>\n",
       "      <td>Pandas</td>\n",
       "    </tr>\n",
       "    <tr>\n",
       "      <th>20</th>\n",
       "      <td>Analyze</td>\n",
       "    </tr>\n",
       "    <tr>\n",
       "      <th>21</th>\n",
       "      <td>about</td>\n",
       "    </tr>\n",
       "    <tr>\n",
       "      <th>22</th>\n",
       "      <td>techniques</td>\n",
       "    </tr>\n",
       "    <tr>\n",
       "      <th>23</th>\n",
       "      <td>for</td>\n",
       "    </tr>\n",
       "    <tr>\n",
       "      <th>24</th>\n",
       "      <td>Python.</td>\n",
       "    </tr>\n",
       "  </tbody>\n",
       "</table>\n",
       "</div>"
      ],
      "text/plain": [
       "      unique_term\n",
       "0          covers\n",
       "1      libraries.\n",
       "2             the\n",
       "3          study.\n",
       "4            data\n",
       "5         article\n",
       "6           using\n",
       "7           sales\n",
       "8          basics\n",
       "9            case\n",
       "10          Learn\n",
       "11           This\n",
       "12         Python\n",
       "13  visualization\n",
       "14             of\n",
       "15              a\n",
       "16             in\n",
       "17     real-world\n",
       "18           with\n",
       "19         Pandas\n",
       "20        Analyze\n",
       "21          about\n",
       "22     techniques\n",
       "23            for\n",
       "24        Python."
      ]
     },
     "execution_count": 22,
     "metadata": {},
     "output_type": "execute_result"
    }
   ],
   "source": [
    "import pandas as pd\n",
    "df = pd.read_csv('F:\\\\CADT\\\\Data Science\\\\TERM6\\\\Information Retrieval\\\\tdoc2.csv')\n",
    "df"
   ]
  },
  {
   "cell_type": "code",
   "execution_count": null,
   "id": "794ab492",
   "metadata": {},
   "outputs": [],
   "source": []
  }
 ],
 "metadata": {
  "kernelspec": {
   "display_name": "Python 3 (ipykernel)",
   "language": "python",
   "name": "python3"
  },
  "language_info": {
   "codemirror_mode": {
    "name": "ipython",
    "version": 3
   },
   "file_extension": ".py",
   "mimetype": "text/x-python",
   "name": "python",
   "nbconvert_exporter": "python",
   "pygments_lexer": "ipython3",
   "version": "3.11.4"
  }
 },
 "nbformat": 4,
 "nbformat_minor": 5
}
